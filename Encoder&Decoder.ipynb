{
  "nbformat": 4,
  "nbformat_minor": 0,
  "metadata": {
    "colab": {
      "provenance": [],
      "authorship_tag": "ABX9TyOgmL0nZ4aOgBR62OHtUhS3",
      "include_colab_link": true
    },
    "kernelspec": {
      "name": "python3",
      "display_name": "Python 3"
    },
    "language_info": {
      "name": "python"
    }
  },
  "cells": [
    {
      "cell_type": "markdown",
      "metadata": {
        "id": "view-in-github",
        "colab_type": "text"
      },
      "source": [
        "<a href=\"https://colab.research.google.com/github/JiwooLee0822/transformer/blob/main/Encoder%26Decoder.ipynb\" target=\"_parent\"><img src=\"https://colab.research.google.com/assets/colab-badge.svg\" alt=\"Open In Colab\"/></a>"
      ]
    },
    {
      "cell_type": "code",
      "execution_count": 2,
      "metadata": {
        "id": "PeuCKO70ltRf"
      },
      "outputs": [],
      "source": [
        "import torch\n",
        "import torch.nn as nn"
      ]
    },
    {
      "cell_type": "markdown",
      "source": [
        "## Encoder Layer\n",
        "\n",
        "multi-head self attention layer와 position-wise fully connected feed-forward network layer가 사용됨.\n",
        "\n",
        "각 layer의 output의 demension은 embedding layer와 동일한 512이다.\n",
        "\n",
        "https://code-angie.tistory.com/10"
      ],
      "metadata": {
        "id": "xxpTvRZf_Nhz"
      }
    },
    {
      "cell_type": "code",
      "source": [
        "class EncoderLayer(nn.Module):\n",
        "  def __init__(self, d_model, head, d_ff, dropout):\n",
        "    super().__init__()\n",
        "    self.attention = MultiHeadAttention(d_model, head)\n",
        "    self.layerNorm1 = nn.LayerNorm(d_model)\n",
        "\n",
        "    self.ffn = PositionWiseFeedForward(d_model, d_ff)\n",
        "    self.layerNorm2 = nn.LayerNorm(d_model)\n",
        "\n",
        "    self.dropout = nn.Dropout(p=dropout)\n",
        "\n",
        "  def forward(self, x, padding_mask):\n",
        "\n",
        "    # multi-head attention (self attention)\n",
        "    attention = self.attention(q = x, k = x, v = x, mask = padding_mask)\n",
        "    # add & norm\n",
        "    attention = self.layerNorm1(attention + x)\n",
        "    attention = self.dropout(attention)\n",
        "    # feed-forward network\n",
        "    outputs = self.ffn(attention)\n",
        "    # add&norm\n",
        "    outputs = self.layerNorm2(outputs + attention)\n",
        "    outputs = self.dropout(outputs)\n",
        "\n",
        "    return outputs\n",
        "\n"
      ],
      "metadata": {
        "id": "JfYJlnny-7hx"
      },
      "execution_count": 3,
      "outputs": []
    },
    {
      "cell_type": "markdown",
      "source": [
        "## Encoder\n",
        "\n",
        "1) 입력에 대한 input embedding, posiional encoding 생성\n",
        "\n",
        "2) add & dropout - input embedding과 positional encoding 더한 후, dropout 수행\n",
        "\n",
        "3) n번 EncoderLayer 반복하기 (n_layer)"
      ],
      "metadata": {
        "id": "YJR8VTnt2ne3"
      }
    },
    {
      "cell_type": "code",
      "source": [
        "class Encoder(nn.Module):\n",
        "  def __init__(self, n_input_vocab, d_model, head, d_ff, max_len, padd_idx, dropout, n_layers, device):\n",
        "    super().__init__()\n",
        "\n",
        "    # embedding\n",
        "    self.input_emb = nn.Embedding(n_input_vocab, d_model, padding_idx=padd_idx)\n",
        "    self.pos_encoding = PositionalEncoding(d_model, max_len, device)\n",
        "    self.dropout = nn.Dropout(p=dropout)\n",
        "\n",
        "    # n개의 encoder layer를 list에 담기\n",
        "    self.encoder_layers = nn.ModuleList([EncoderLayer(d_model=d_model,\n",
        "                                                      head=head,\n",
        "                                                      d_ff=d_ff,\n",
        "                                                      dropout=dropout)\n",
        "                                          for _ in range(n_layers)])\n",
        "\n",
        "    def forward(self, x, padding_mask):\n",
        "      # 입력에 대한 input embedding, positional encoding 생성\n",
        "      input_emb = self.input_emb(x)\n",
        "      pos_encoding = self.pos_encoding(x)\n",
        "\n",
        "      # add & dropout\n",
        "      x = self.dropout(input_emb + pos_encoding)\n",
        "\n",
        "      # n번 encoderlayer 반복하기\n",
        "      for encoder_layer in self.encoder_layers:\n",
        "        outputs = encoder_layer(pos_inputs, src_mask)\n",
        "\n",
        "      return outputs\n",
        "\n",
        "\n",
        ""
      ],
      "metadata": {
        "id": "BLi_sy5x2F9c"
      },
      "execution_count": 4,
      "outputs": []
    },
    {
      "cell_type": "code",
      "source": [],
      "metadata": {
        "id": "g0diNoSvHzbC"
      },
      "execution_count": null,
      "outputs": []
    }
  ]
}