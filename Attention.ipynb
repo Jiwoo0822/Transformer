{
  "nbformat": 4,
  "nbformat_minor": 0,
  "metadata": {
    "colab": {
      "provenance": [],
      "authorship_tag": "ABX9TyP8zvFnDrJ332Hu6Q/14rYo",
      "include_colab_link": true
    },
    "kernelspec": {
      "name": "python3",
      "display_name": "Python 3"
    },
    "language_info": {
      "name": "python"
    }
  },
  "cells": [
    {
      "cell_type": "markdown",
      "metadata": {
        "id": "view-in-github",
        "colab_type": "text"
      },
      "source": [
        "<a href=\"https://colab.research.google.com/github/JiwooLee0822/transformer/blob/main/Attention.ipynb\" target=\"_parent\"><img src=\"https://colab.research.google.com/assets/colab-badge.svg\" alt=\"Open In Colab\"/></a>"
      ]
    },
    {
      "cell_type": "markdown",
      "source": [
        "## Scaled Dot-Product Attention\n",
        "\n",
        "![image.png](data:image/png;base64,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)\n"
      ],
      "metadata": {
        "id": "OE2eLusCOBaN"
      }
    },
    {
      "cell_type": "code",
      "execution_count": 4,
      "metadata": {
        "id": "pCKy0GFf_hyv"
      },
      "outputs": [],
      "source": [
        "import torch\n",
        "import math\n",
        "import torch.nn as nn"
      ]
    },
    {
      "cell_type": "code",
      "source": [
        "class scale_dot_product_attention(nn.Module):\n",
        "  def __init__(self):\n",
        "    super(scale_dot_product_attention).__init__()\n",
        "    self.softmax = nn.Softmax()\n",
        "\n",
        "  def forward(self, q, k, v, mask = None, e = 1e-12):\n",
        "    # input is 4 dimension tensor\n",
        "    batch_size, head, length, d_tensor = k.size\n",
        "\n",
        "    # dot product Q with K^T -> compute similarity\n",
        "    k_t = k.view(batch_size, head, d_tensor, length)\n",
        "    score = (q @ k_t) / math.sqrt(d_tensor) # @연산은 np.matmul과 같은 역할\n",
        "\n",
        "    # masking (optional)\n",
        "    if mask is not None:\n",
        "      score = score.masked_fill(mask == 0, -e)\n",
        "\n",
        "    score = self.softmax(score) # make [0,1] range\n",
        "    v = score @ v # multiply with value\n",
        "\n",
        "    return v, score\n"
      ],
      "metadata": {
        "id": "d8Gdx6AMOAQE"
      },
      "execution_count": 7,
      "outputs": []
    },
    {
      "cell_type": "markdown",
      "source": [
        "## Multi-Head Attention\n",
        "\n",
        "### 논문에서는 n_head = 8로 지정하였으며, 이에 따라 d_model = 512를 n_head로 나눈 64차원의 q, k, v에 대해서 병렬 attention 수행함.\n",
        "\n",
        "### 이후, 각 연산 결과를 합치는 concatenate 과정 진행하고, 가중치 행렬 곱함."
      ],
      "metadata": {
        "id": "d67fkn4AUc27"
      }
    },
    {
      "cell_type": "code",
      "source": [
        "class MultiHeadAttention(nn.Module):\n",
        "  def __init__(self, d_model, n_head):\n",
        "    super(MultiHeadAttention, self).__init__()\n",
        "    self.n_head = n_head\n",
        "    self.attention = scale_dot_product_attention()\n",
        "    self.w_q = nn.Linear(d_model, d_model)\n",
        "    self.w_k = nn.Linear(d_model, d_model)\n",
        "    self.w_v = nn.Linear(d_model, d_model)\n",
        "    self.w_concat = nn.Linear(d_model, d_model)\n",
        "\n",
        "  def split(self, tensor):\n",
        "    # splits tensor by number of head\n",
        "    batch_size,length, d_model = tensor.size()\n",
        "    d_tensor = d_model//self.n_head\n",
        "\n",
        "    tensor = tensor.view(batch_size, self.n_head, length, d_tensor)\n",
        "\n",
        "    return tensor\n",
        "\n",
        "  def concat(self, tensor):\n",
        "    batch_size, head, length, d_tensor = tensor.size()\n",
        "    d_model = head*d_tensor\n",
        "\n",
        "    tensor = tensor.view(batch_size, length, d_model)\n",
        "    return tensor\n",
        "\n",
        "  def forward(self, q, k, v, mask = None):\n",
        "    # dot product with weight metrics\n",
        "    q, k, v = self.w_q(q), self.w_k(k), self.w_v(v)\n",
        "    # split tensor by number of heads\n",
        "    q, k, v = self.split(q), self.split(k), self.split(v)\n",
        "    # do scale dot product (attention 계산)\n",
        "    out, attention = self.attention(q, k, v, mask = mask)\n",
        "    # concat and pass to linear layer\n",
        "    out = self.concat(out)\n",
        "    out = self.w_concat(out)\n",
        "\n",
        "    return out\n",
        "\n"
      ],
      "metadata": {
        "id": "CruKOoTXUI9N"
      },
      "execution_count": 8,
      "outputs": []
    },
    {
      "cell_type": "code",
      "source": [],
      "metadata": {
        "id": "Rfv09whpaHGv"
      },
      "execution_count": 9,
      "outputs": []
    }
  ]
}